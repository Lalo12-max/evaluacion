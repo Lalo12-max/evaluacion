{
 "cells": [
  {
   "cell_type": "markdown",
   "metadata": {},
   "source": [
    "# Preprocesamiento de Datos - Rent4you Datawarehouse\n",
    "\n",
    "Este notebook documenta el proceso de limpieza y preparación de datos para el análisis."
   ]
  },
  {
   "cell_type": "code",
   "execution_count": 1,
   "metadata": {},
   "outputs": [
    {
     "name": "stdout",
     "output_type": "stream",
     "text": [
      "Cargando y validando datasets...\n",
      "\n",
      "=== DIM_TIEMPO ===\n",
      "Registros: 1,096\n",
      "Columnas: 8\n",
      "Valores nulos: 0\n",
      "Duplicados: 0\n",
      "Columnas: ['fecha_id', 'fecha', 'año', 'mes', 'trimestre', 'dia_semana', 'es_fin_semana', 'temporada']\n",
      "\n",
      "=== DIM_SUCURSAL ===\n",
      "Registros: 8\n",
      "Columnas: 6\n",
      "Valores nulos: 0\n",
      "Duplicados: 0\n",
      "Columnas: ['sucursal_id', 'nombre_sucursal', 'ciudad', 'region', 'tipo_sucursal', 'fecha_apertura']\n",
      "\n",
      "=== DIM_VEHICULO ===\n",
      "Registros: 270\n",
      "Columnas: 7\n",
      "Valores nulos: 0\n",
      "Duplicados: 0\n",
      "Columnas: ['vehiculo_id', 'tipo_vehiculo', 'marca', 'modelo', 'año', 'categoria_precio', 'estado']\n",
      "\n",
      "=== DIM_CLIENTE ===\n",
      "Registros: 1,000\n",
      "Columnas: 6\n",
      "Valores nulos: 0\n",
      "Duplicados: 0\n",
      "Columnas: ['cliente_id', 'edad', 'genero', 'tipo_cliente', 'ciudad_residencia', 'segmento_riesgo']\n",
      "\n",
      "=== DIM_EMPLEADO ===\n",
      "Registros: 100\n",
      "Columnas: 6\n",
      "Valores nulos: 0\n",
      "Duplicados: 0\n",
      "Columnas: ['empleado_id', 'nombre', 'cargo', 'sucursal_id', 'fecha_contratacion', 'experiencia_años']\n",
      "\n",
      "=== FACT_ALQUILERES ===\n",
      "Registros: 10,000\n",
      "Columnas: 10\n",
      "Valores nulos: 0\n",
      "Duplicados: 0\n",
      "Columnas: ['alquiler_id', 'fecha_id', 'sucursal_id', 'vehiculo_id', 'cliente_id', 'empleado_id', 'dias_alquiler', 'precio_total', 'descuento', 'seguro_contratado']\n",
      "\n",
      "=== FACT_GASTOS ===\n",
      "Registros: 5,000\n",
      "Columnas: 6\n",
      "Valores nulos: 0\n",
      "Duplicados: 0\n",
      "Columnas: ['gasto_id', 'fecha_id', 'sucursal_id', 'tipo_gasto', 'monto', 'descripcion']\n"
     ]
    }
   ],
   "source": [
    "import pandas as pd\n",
    "import numpy as np\n",
    "import matplotlib.pyplot as plt\n",
    "import seaborn as sns\n",
    "\n",
    "# Cargar datos\n",
    "print('Cargando y validando datasets...')\n",
    "\n",
    "# Verificar integridad de datos\n",
    "datasets = {\n",
    "    'dim_tiempo': pd.read_csv('../data/processed/dim_tiempo.csv'),\n",
    "    'dim_sucursal': pd.read_csv('../data/processed/dim_sucursal.csv'),\n",
    "    'dim_vehiculo': pd.read_csv('../data/processed/dim_vehiculo.csv'),\n",
    "    'dim_cliente': pd.read_csv('../data/processed/dim_cliente.csv'),\n",
    "    'dim_empleado': pd.read_csv('../data/processed/dim_empleado.csv'),\n",
    "    'fact_alquileres': pd.read_csv('../data/processed/fact_alquileres.csv'),\n",
    "    'fact_gastos': pd.read_csv('../data/processed/fact_gastos.csv')\n",
    "}\n",
    "\n",
    "# Mostrar información de cada dataset\n",
    "for name, df in datasets.items():\n",
    "    print(f'\\n=== {name.upper()} ===')\n",
    "    print(f'Registros: {len(df):,}')\n",
    "    print(f'Columnas: {len(df.columns)}')\n",
    "    print(f'Valores nulos: {df.isnull().sum().sum()}')\n",
    "    print(f'Duplicados: {df.duplicated().sum()}')\n",
    "    print('Columnas:', list(df.columns))"
   ]
  }
 ],
 "metadata": {
  "kernelspec": {
   "display_name": "venv",
   "language": "python",
   "name": "python3"
  },
  "language_info": {
   "codemirror_mode": {
    "name": "ipython",
    "version": 3
   },
   "file_extension": ".py",
   "mimetype": "text/x-python",
   "name": "python",
   "nbconvert_exporter": "python",
   "pygments_lexer": "ipython3",
   "version": "3.12.6"
  }
 },
 "nbformat": 4,
 "nbformat_minor": 2
}
